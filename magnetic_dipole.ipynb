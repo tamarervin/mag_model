{
 "cells": [
  {
   "cell_type": "markdown",
   "metadata": {},
   "source": [
    "# Computation of Magnetic Dipole Vector\n",
    "\n",
    "This calculation is based off equations 3 - 7 from the paper [Magnetograph Saturation and the Open Flux Problem](https://iopscience.iop.org/article/10.3847/1538-4357/ac4491/pdf).\n",
    "\n",
    "The dipole vector looks like: $(H_1, H_2, D_{ax})$ defined below:  \n",
    "\n",
    "$D_{ax} = \\frac{3}{4 \\pi} \\int B_r(R_\\odot\\, \\theta, \\Phi, t) \\sin \\theta d\\Omega$ [Equation 4]   \n",
    "\n",
    "$H_1(t) = \\frac{3}{4 \\pi} \\int B_r(R_\\odot\\, \\theta, \\Phi, t) \\cos \\theta \\cos \\Phi d\\Omega$ [Equation 6]\n",
    "\n",
    "$H_1(t) = \\frac{3}{4 \\pi} \\int B_r(R_\\odot\\, \\theta, \\Phi, t) \\cos \\theta \\sin \\Phi d\\Omega$ [Equation 7]\n",
    "\n"
   ]
  },
  {
   "cell_type": "code",
   "execution_count": 15,
   "metadata": {},
   "outputs": [],
   "source": [
    "import scipy\n",
    "import pickle\n",
    "import numpy as np\n",
    "import matplotlib.pyplot as plt\n",
    "import astropy.units as u\n",
    "\n",
    "import pfss_funcs as pfs\n"
   ]
  },
  {
   "cell_type": "code",
   "execution_count": 19,
   "metadata": {},
   "outputs": [],
   "source": [
    "def get_map_scales(smap):\n",
    "    \"\"\"\n",
    "    compute the solar X and solar Y 2D pixel scale arrays from a sunpy map object\n",
    "    - If the image has been rotated to solar north up, then the x and y scales will\n",
    "      be in the helioprojective cartesian system with units of [Rs].\n",
    "    Parameters\n",
    "    ----------\n",
    "    smap: Sunpy map object\n",
    "    Returns\n",
    "    -------\n",
    "    x: array of x coordinates in helioprojective cartesian system\n",
    "    y: array of y coordinates in helioprojective cartesian system\n",
    "    \"\"\"\n",
    "\n",
    "    header = smap.fits_header\n",
    "\n",
    "    # pixel array\n",
    "    axis1 = np.linspace(1, header['NAXIS1'], header['NAXIS1']) - header['CRPIX1']\n",
    "    axis2 = np.linspace(1, header['NAXIS2'], header['NAXIS2']) - header['CRPIX2']\n",
    "\n",
    "    # pixel offset from center of image, x,y\n",
    "    x, y = np.meshgrid(axis1, axis2)\n",
    "\n",
    "    return x, y\n",
    "\n",
    "def coordinates(smap):\n",
    "    \"\"\"\n",
    "    calculate array of mu values and cartesian\n",
    "    coordinates for image\n",
    "    Parameters\n",
    "    ----------\n",
    "    smap: Sunpy map object\n",
    "    Returns\n",
    "    -------\n",
    "    x: array of x coordinates in helioprojective cartesian system\n",
    "    y: array of y coordinates in helioprojective cartesian system\n",
    "    pd: array of pixel distances\n",
    "    r: array of solar radius values\n",
    "    d: observer distance from sun in solar radii\n",
    "    mu: array of mu values\n",
    "    \"\"\"\n",
    "\n",
    "    # distance of observer to sun in solar radii\n",
    "    d = smap.fits_header['DSUN_OBS'] / smap.fits_header['RSUN_REF']\n",
    "\n",
    "    # focal length in pixels\n",
    "    f = 180. * 3600. / np.pi / smap.fits_header['CDELT1']\n",
    "\n",
    "    # get cartesian x, y map scales\n",
    "    x, y = get_map_scales(smap)\n",
    "\n",
    "    # distance (in pixels) to pixel\n",
    "    pd = np.sqrt(x ** 2 + y ** 2)\n",
    "\n",
    "    # distance (in solar r) to pixel\n",
    "    pr = f * f * pd * pd + pd ** 4 - d * d * pd ** 4 + 0.J\n",
    "    r = (d * f * pd - np.sqrt(pr)) / (f * f + pd * pd)\n",
    "\n",
    "    # separate complex parts\n",
    "    r = r.real\n",
    "\n",
    "    # get mu array\n",
    "    pr = 1 - r ** 2 + 0.J\n",
    "    cos_alpha = (np.sqrt(pr)).real\n",
    "    sin_alpha = r.real\n",
    "    cos_theta = ((d - np.sqrt(pr)) / np.sqrt(r ** 2 + (d - np.sqrt(pr)) ** 2)).real\n",
    "    sin_theta = (np.sqrt(1 - cos_theta ** 2)).real\n",
    "    mu = cos_alpha * cos_theta - sin_alpha * sin_theta\n",
    "\n",
    "    return x, y, pd, r, d, mu\n"
   ]
  },
  {
   "cell_type": "code",
   "execution_count": 44,
   "metadata": {},
   "outputs": [],
   "source": [
    "# read in a pickle file\n",
    "psp = pickle.load(open(\"2018-08-15.pkl\",\"rb\"))\n",
    "mag = psp['Magnetogram']\n",
    "\n",
    "# find number of points in magnetogram to create theta and phi grid\n",
    "y, x = np.shape(mag)\n",
    "\n",
    "# this magnetic field data goes from -90 to 90 in the theta direction, and 0 to 360 in the phi direction\n",
    "phi, theta = np.meshgrid(np.linspace(0,360,x)*u.deg,\n",
    "                        np.linspace(-90,90,y)*u.deg)"
   ]
  },
  {
   "cell_type": "code",
   "execution_count": 50,
   "metadata": {},
   "outputs": [],
   "source": [
    "# axial dipole strength\n",
    "\n",
    "Dax = np.nansum(mag * np.sin(theta)) "
   ]
  },
  {
   "cell_type": "code",
   "execution_count": 51,
   "metadata": {},
   "outputs": [
    {
     "data": {
      "text/latex": [
       "$0.00051993344 \\; \\mathrm{}$"
      ],
      "text/plain": [
       "<Quantity 0.00051993>"
      ]
     },
     "execution_count": 51,
     "metadata": {},
     "output_type": "execute_result"
    }
   ],
   "source": [
    "Dax\n"
   ]
  },
  {
   "cell_type": "code",
   "execution_count": 37,
   "metadata": {},
   "outputs": [
    {
     "data": {
      "text/plain": [
       "<matplotlib.image.AxesImage at 0x7fdff520a6a0>"
      ]
     },
     "execution_count": 37,
     "metadata": {},
     "output_type": "execute_result"
    },
    {
     "data": {
      "image/png": "[encoded data removed]",
      "text/plain": [
       "<Figure size 640x480 with 1 Axes>"
      ]
     },
     "metadata": {},
     "output_type": "display_data"
    }
   ],
   "source": []
  },
  {
   "cell_type": "code",
   "execution_count": null,
   "metadata": {},
   "outputs": [],
   "source": []
  }
 ],
 "metadata": {
  "interpreter": {
   "hash": "9a6a8658e3f1e835b69ff956e3ca559e1582bb3da1c094a5e268ca9e5d4edb09"
  },
  "kernelspec": {
   "display_name": "Python 3.8.0 ('mag_model')",
   "language": "python",
   "name": "python3"
  },
  "language_info": {
   "codemirror_mode": {
    "name": "ipython",
    "version": 3
   },
   "file_extension": ".py",
   "mimetype": "text/x-python",
   "name": "python",
   "nbconvert_exporter": "python",
   "pygments_lexer": "ipython3",
   "version": "3.8.0"
  },
  "orig_nbformat": 4
 },
 "nbformat": 4,
 "nbformat_minor": 2
}
