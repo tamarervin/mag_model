{
 "cells": [
  {
   "cell_type": "markdown",
   "id": "0f43db92",
   "metadata": {},
   "source": [
    "### PFSS Modeling Calculations\n",
    "\n",
    "Tamar Ervin - September 26, 2022\n",
    "\n",
    "Based off example notebook: Sam Badman - 8/25/22\n",
    "\n",
    "This notebook goes through running a potential field source surface (PFSS, [1](https://ui.adsabs.harvard.edu/abs/1969SoPh....9..131A/abstract),[2](https://ui.adsabs.harvard.edu/abs/1969SoPh....6..442S/abstract)) model of the solar coronal magnetic field using pfsspy and accessing its components including tracing fieldlines, creating a map of coronal holes and flying a model spacecraft through it and tracing field line connections\n",
    "\n",
    "Read more about pfsspy here : https://pfsspy.readthedocs.io/en/stable/ and view the source code here : https://github.com/dstansby/pfsspy/tree/0c5b78a2901c5dd55ddc286ba25a91717e85a40c"
   ]
  },
  {
   "cell_type": "code",
   "execution_count": 1,
   "id": "a0345dd7",
   "metadata": {},
   "outputs": [],
   "source": [
    "import astropy\n",
    "import sunpy, sunpy.map\n",
    "import pfsspy\n",
    "import matplotlib.pyplot as plt\n",
    "import numpy as np\n",
    "\n",
    "import sys, os\n",
    "\n",
    "sys.path.append(os.path.realpath(''))\n",
    "# sys.path.append('/Users/tamarervin/Desktop/Repositories/mag_model/')\n",
    "import utilities as utils\n",
    "import psp_funcs as psp_funcs\n",
    "import pfss_funcs as pfss_funcs\n",
    "import pandas as pd"
   ]
  },
  {
   "cell_type": "code",
   "execution_count": 2,
   "id": "0ac192ba",
   "metadata": {},
   "outputs": [],
   "source": [
    "rss_values = np.arange(2.0, 3.75, 0.25)\n",
    "IMG_DIR = os.path.realpath('../mag_model/images')\n",
    "PSP_DATA_DIR = os.path.realpath('../mag_model/data/psp')\n",
    "HCS_DATA_DIR = os.path.realpath('../mag_model/data/gong')\n"
   ]
  },
  {
   "cell_type": "markdown",
   "id": "2245d7ab",
   "metadata": {},
   "source": [
    "# Looking at PSP Data\n",
    "- read in the PSP text file with timestamps and $\\mathrm{B_r \\, AU^2}$ values\n",
    "- use to compare with data to find a 'best' magnetogram\n",
    "- pull the polarity to overlay on the plot\n",
    "- save lat, lon, and polarity values"
   ]
  },
  {
   "cell_type": "code",
   "execution_count": 3,
   "id": "4565a0ba",
   "metadata": {},
   "outputs": [
    {
     "name": "stderr",
     "output_type": "stream",
     "text": [
      "WARNING: TimeDeltaMissingUnitWarning: Numerical value without unit or explicit format passed to TimeDelta, assuming days [astropy.time.core]\n"
     ]
    }
   ],
   "source": [
    "# read in the PSP text file and convert to a pandas dataframe\n",
    "import pandas as pd\n",
    "\n",
    "psp_txt_file = '/Users/tamarervin/Desktop/Repositories/mag_model/data/psp/BrAU2_mode.csv'\n",
    "psp_data = pd.read_csv(psp_txt_file, names=['datetime', 'Br'], engine='python')\n",
    "\n",
    "# split the datetime column into a separate date and time column\n",
    "psp_data[['date', 'time']] = psp_data.datetime.str.split('/', expand=True)\n",
    "dates = psp_data.date + 'T' + psp_data.time\n",
    "\n",
    "# convert datetime to a JD date and datetime object -- use the conversion function in utilities.py\n",
    "dates_list = [utils.get_dates(date) for date in dates]\n",
    "jd_dates = [d[2] for d in dates_list]\n",
    "jd_dates = [d.to_value('jd', 'long') for d in jd_dates]\n",
    "psp_data['jd'] = jd_dates\n",
    "psp_data['date_obj'] = [d[1] for d in dates_list]\n",
    "\n",
    "# add a polarity column\n",
    "psp_data['polarity'] = np.sign(psp_data.Br)\n",
    "\n",
    "# remove the data from september 5 due to the solar flare -- set up a flag column\n",
    "date_str, date_obj, date_jd = utils.get_dates('2022-09-05T00:00:00.000')\n",
    "flag_inds = np.logical_and(psp_data.date >= date_jd - 0.2, psp_data.date <= date_jd + 1)\n",
    "flag = np.array(['' for x in range(len(psp_data.datetime))])\n",
    "flag[flag_inds] = 'flare'\n",
    "psp_data['flag'] = flag\n",
    "\n"
   ]
  },
  {
   "cell_type": "markdown",
   "id": "ac59e6aa",
   "metadata": {},
   "source": [
    "# Find the trajectory of PSP using astrospice and timestamps above"
   ]
  },
  {
   "cell_type": "code",
   "execution_count": 91,
   "id": "d159c4e9",
   "metadata": {},
   "outputs": [
    {
     "data": {
      "application/json": {
       "ascii": false,
       "bar_format": null,
       "colour": null,
       "elapsed": 0.04767894744873047,
       "initial": 0,
       "n": 0,
       "ncols": null,
       "nrows": null,
       "postfix": null,
       "prefix": "Files Downloaded",
       "rate": null,
       "total": 1,
       "unit": "file",
       "unit_divisor": 1000,
       "unit_scale": false
      },
      "application/vnd.jupyter.widget-view+json": {
       "model_id": "85b5d8fa0d9c49a493cdb63d7a2d4662",
       "version_major": 2,
       "version_minor": 0
      },
      "text/plain": [
       "Files Downloaded:   0%|          | 0/1 [00:00<?, ?file/s]"
      ]
     },
     "metadata": {},
     "output_type": "display_data"
    }
   ],
   "source": [
    "# get the corresponding coordinates to the timestamps in the dataframe\n",
    "# psp_coords_carr = psp_funcs.get_psp_coords(psp_data.date_obj)\n",
    "import astrospice\n",
    "\n",
    "kernels = astrospice.registry.get_kernels('psp', 'predict')\n",
    "psp_coords_inertial = astrospice.generate_coords('SOLAR PROBE PLUS', psp_data.date_obj)\n",
    "\n",
    "# Transform to Heliographic Carrington, i.e. the frame that co-rotates with the Sun.\n",
    "psp_coords_carr = psp_coords_inertial.transform_to(\n",
    "sunpy.coordinates.HeliographicCarrington(observer=\"self\"))\n"
   ]
  },
  {
   "cell_type": "code",
   "execution_count": 116,
   "id": "41efb765",
   "metadata": {},
   "outputs": [],
   "source": [
    "# do the parker spiral projection to get the coordinates at the source surface for different source surface heights\n",
    "from astropy.table import QTable\n",
    "# create QTable with astropy\n",
    "# t = QTable()\n",
    "coords = pd.DataFrame()\n",
    "for rss in rss_values:\n",
    "    # get psp at source surface\n",
    "    psp_at_source_surface = psp_funcs.coord_projection(psp_coords_carr, rss, psp_data.date_obj)\n",
    "\n",
    "    # save these values with corresponding source surface height as column name to the data array\n",
    "    coords['lon_' + str(int(rss*100))] = psp_at_source_surface.lon.degree\n",
    "    coords['lat_' + str(int(rss*100))] = psp_at_source_surface.lat.degree\n",
    "\n",
    "\n",
    "# savecsv = os.path.join(PSP_DATA_DIR, 'psp_ss.csv')\n",
    "# t.to_csv(savecsv)  "
   ]
  },
  {
   "cell_type": "markdown",
   "id": "b4fdd08c",
   "metadata": {},
   "source": [
    "# create $\\mathrm{B_rR^2}$ map\n",
    "- create the PFSS model for one magnetogram at perihelion \n",
    "- run the PSP trajectory over the PFSS model and trace the field lines back down to the source surface using parker spiral\n",
    "- get the Br values at the source surface from the PFSS model"
   ]
  },
  {
   "cell_type": "code",
   "execution_count": 93,
   "id": "3084561f",
   "metadata": {},
   "outputs": [],
   "source": [
    "# get a magnetogram for the specific date and time in question\n",
    "filenames = ['adapt41311_03k012_202209170000_i00005600n1.fts.gz', \n",
    "'adapt41311_03k012_202209180000_i00005700n1.fts.gz', 'adapt40311_03k012_202209190000_i00005600n1.fts.gz', \n",
    "'adapt41311_03k012_202209200000_i00005600n1.fts.gz', 'adapt41311_03k012_202209210000_i00005600n1.fts.gz']\t\n",
    "\n",
    "#'adapt40311_03k012_202209190200_i00025600n1.fts.gz', 'adapt40311_03k012_202209190400_i00010500n1.fts.gz',\n",
    "# 'adapt40311_03k012_202209190600_i00030500n1.fts.gz', 'adapt40311_03k012_202209190800_i00003600n1.fts.gz', 'adapt40311_03k012_202209191000_i00023600n1.fts.gz', \n",
    "# 'adapt40311_03k012_202209191200_i00043600n1.fts.gz', 'adapt40311_03k012_202209191400_i00005600n1.fts.gz', 'adapt40311_03k012_202209191600_i00005600n1.fts.gz', \n",
    "\n",
    "\n",
    "# create dataframe\n",
    "hcs_data = []"
   ]
  },
  {
   "cell_type": "code",
   "execution_count": 101,
   "id": "c1606ec4",
   "metadata": {},
   "outputs": [
    {
     "name": "stdout",
     "output_type": "stream",
     "text": [
      "data/gong/adapt41311_03k012_202209170000_i00005600n1.fts.gz already exists!\n",
      "INFO: Missing metadata for solar radius: assuming the standard radius of the photosphere. [sunpy.map.mapbase]\n"
     ]
    },
    {
     "name": "stderr",
     "output_type": "stream",
     "text": [
      "WARNING: SunpyMetadataWarning: Missing metadata for observer: assuming Earth-based observer.\n",
      "For frame 'heliographic_stonyhurst' the following metadata is missing: dsun_obs,hgln_obs,hglt_obs\n",
      "For frame 'heliographic_carrington' the following metadata is missing: dsun_obs,crlt_obs,crln_obs\n",
      " [sunpy.map.mapbase]\n"
     ]
    },
    {
     "name": "stdout",
     "output_type": "stream",
     "text": [
      "INFO: Missing metadata for solar radius: assuming the standard radius of the photosphere. [sunpy.map.mapbase]\n"
     ]
    },
    {
     "name": "stderr",
     "output_type": "stream",
     "text": [
      "WARNING: SunpyMetadataWarning: Missing metadata for observer: assuming Earth-based observer.\n",
      "For frame 'heliographic_stonyhurst' the following metadata is missing: dsun_obs,hgln_obs,hglt_obs\n",
      "For frame 'heliographic_carrington' the following metadata is missing: dsun_obs,crlt_obs,crln_obs\n",
      " [sunpy.map.mapbase]\n",
      "/opt/anaconda3/envs/mag_model/lib/python3.8/site-packages/pfsspy/tracing.py:180: UserWarning: At least one field line ran out of steps during tracing.\n",
      "You should probably increase max_steps (currently set to 1000) and try again.\n",
      "  warnings.warn(\n"
     ]
    },
    {
     "name": "stdout",
     "output_type": "stream",
     "text": [
      "INFO: Missing metadata for solar radius: assuming the standard radius of the photosphere. [sunpy.map.mapbase]\n"
     ]
    },
    {
     "name": "stderr",
     "output_type": "stream",
     "text": [
      "WARNING: SunpyMetadataWarning: Missing metadata for observer: assuming Earth-based observer.\n",
      "For frame 'heliographic_stonyhurst' the following metadata is missing: dsun_obs,hgln_obs,hglt_obs\n",
      "For frame 'heliographic_carrington' the following metadata is missing: dsun_obs,crlt_obs,crln_obs\n",
      " [sunpy.map.mapbase]\n",
      "/opt/anaconda3/envs/mag_model/lib/python3.8/site-packages/pfsspy/tracing.py:180: UserWarning: At least one field line ran out of steps during tracing.\n",
      "You should probably increase max_steps (currently set to 1000) and try again.\n",
      "  warnings.warn(\n"
     ]
    },
    {
     "name": "stdout",
     "output_type": "stream",
     "text": [
      "INFO: Missing metadata for solar radius: assuming the standard radius of the photosphere. [sunpy.map.mapbase]\n"
     ]
    },
    {
     "name": "stderr",
     "output_type": "stream",
     "text": [
      "WARNING: SunpyMetadataWarning: Missing metadata for observer: assuming Earth-based observer.\n",
      "For frame 'heliographic_stonyhurst' the following metadata is missing: dsun_obs,hgln_obs,hglt_obs\n",
      "For frame 'heliographic_carrington' the following metadata is missing: dsun_obs,crlt_obs,crln_obs\n",
      " [sunpy.map.mapbase]\n",
      "/opt/anaconda3/envs/mag_model/lib/python3.8/site-packages/pfsspy/tracing.py:180: UserWarning: At least one field line ran out of steps during tracing.\n",
      "You should probably increase max_steps (currently set to 1000) and try again.\n",
      "  warnings.warn(\n"
     ]
    },
    {
     "name": "stdout",
     "output_type": "stream",
     "text": [
      "INFO: Missing metadata for solar radius: assuming the standard radius of the photosphere. [sunpy.map.mapbase]\n"
     ]
    },
    {
     "name": "stderr",
     "output_type": "stream",
     "text": [
      "WARNING: SunpyMetadataWarning: Missing metadata for observer: assuming Earth-based observer.\n",
      "For frame 'heliographic_stonyhurst' the following metadata is missing: dsun_obs,hgln_obs,hglt_obs\n",
      "For frame 'heliographic_carrington' the following metadata is missing: dsun_obs,crlt_obs,crln_obs\n",
      " [sunpy.map.mapbase]\n",
      "/opt/anaconda3/envs/mag_model/lib/python3.8/site-packages/pfsspy/tracing.py:180: UserWarning: At least one field line ran out of steps during tracing.\n",
      "You should probably increase max_steps (currently set to 1000) and try again.\n",
      "  warnings.warn(\n"
     ]
    },
    {
     "name": "stdout",
     "output_type": "stream",
     "text": [
      "INFO: Missing metadata for solar radius: assuming the standard radius of the photosphere. [sunpy.map.mapbase]\n"
     ]
    },
    {
     "name": "stderr",
     "output_type": "stream",
     "text": [
      "WARNING: SunpyMetadataWarning: Missing metadata for observer: assuming Earth-based observer.\n",
      "For frame 'heliographic_stonyhurst' the following metadata is missing: dsun_obs,hgln_obs,hglt_obs\n",
      "For frame 'heliographic_carrington' the following metadata is missing: dsun_obs,crlt_obs,crln_obs\n",
      " [sunpy.map.mapbase]\n",
      "/opt/anaconda3/envs/mag_model/lib/python3.8/site-packages/pfsspy/tracing.py:180: UserWarning: At least one field line ran out of steps during tracing.\n",
      "You should probably increase max_steps (currently set to 1000) and try again.\n",
      "  warnings.warn(\n"
     ]
    },
    {
     "name": "stdout",
     "output_type": "stream",
     "text": [
      "INFO: Missing metadata for solar radius: assuming the standard radius of the photosphere. [sunpy.map.mapbase]\n"
     ]
    },
    {
     "name": "stderr",
     "output_type": "stream",
     "text": [
      "WARNING: SunpyMetadataWarning: Missing metadata for observer: assuming Earth-based observer.\n",
      "For frame 'heliographic_stonyhurst' the following metadata is missing: dsun_obs,hgln_obs,hglt_obs\n",
      "For frame 'heliographic_carrington' the following metadata is missing: dsun_obs,crlt_obs,crln_obs\n",
      " [sunpy.map.mapbase]\n",
      "/opt/anaconda3/envs/mag_model/lib/python3.8/site-packages/pfsspy/tracing.py:180: UserWarning: At least one field line ran out of steps during tracing.\n",
      "You should probably increase max_steps (currently set to 1000) and try again.\n",
      "  warnings.warn(\n"
     ]
    },
    {
     "name": "stdout",
     "output_type": "stream",
     "text": [
      "INFO: Missing metadata for solar radius: assuming the standard radius of the photosphere. [sunpy.map.mapbase]\n"
     ]
    },
    {
     "name": "stderr",
     "output_type": "stream",
     "text": [
      "WARNING: SunpyMetadataWarning: Missing metadata for observer: assuming Earth-based observer.\n",
      "For frame 'heliographic_stonyhurst' the following metadata is missing: dsun_obs,hgln_obs,hglt_obs\n",
      "For frame 'heliographic_carrington' the following metadata is missing: dsun_obs,crlt_obs,crln_obs\n",
      " [sunpy.map.mapbase]\n",
      "/opt/anaconda3/envs/mag_model/lib/python3.8/site-packages/pfsspy/tracing.py:180: UserWarning: At least one field line ran out of steps during tracing.\n",
      "You should probably increase max_steps (currently set to 1000) and try again.\n",
      "  warnings.warn(\n"
     ]
    },
    {
     "name": "stdout",
     "output_type": "stream",
     "text": [
      "data/gong/adapt41311_03k012_202209180000_i00005700n1.fts.gz already exists!\n",
      "INFO: Missing metadata for solar radius: assuming the standard radius of the photosphere. [sunpy.map.mapbase]\n"
     ]
    },
    {
     "name": "stderr",
     "output_type": "stream",
     "text": [
      "WARNING: SunpyMetadataWarning: Missing metadata for observer: assuming Earth-based observer.\n",
      "For frame 'heliographic_stonyhurst' the following metadata is missing: dsun_obs,hgln_obs,hglt_obs\n",
      "For frame 'heliographic_carrington' the following metadata is missing: dsun_obs,crlt_obs,crln_obs\n",
      " [sunpy.map.mapbase]\n"
     ]
    },
    {
     "name": "stdout",
     "output_type": "stream",
     "text": [
      "INFO: Missing metadata for solar radius: assuming the standard radius of the photosphere. [sunpy.map.mapbase]\n"
     ]
    },
    {
     "name": "stderr",
     "output_type": "stream",
     "text": [
      "WARNING: SunpyMetadataWarning: Missing metadata for observer: assuming Earth-based observer.\n",
      "For frame 'heliographic_stonyhurst' the following metadata is missing: dsun_obs,hgln_obs,hglt_obs\n",
      "For frame 'heliographic_carrington' the following metadata is missing: dsun_obs,crlt_obs,crln_obs\n",
      " [sunpy.map.mapbase]\n",
      "/opt/anaconda3/envs/mag_model/lib/python3.8/site-packages/pfsspy/tracing.py:180: UserWarning: At least one field line ran out of steps during tracing.\n",
      "You should probably increase max_steps (currently set to 1000) and try again.\n",
      "  warnings.warn(\n"
     ]
    },
    {
     "name": "stdout",
     "output_type": "stream",
     "text": [
      "INFO: Missing metadata for solar radius: assuming the standard radius of the photosphere. [sunpy.map.mapbase]\n"
     ]
    },
    {
     "name": "stderr",
     "output_type": "stream",
     "text": [
      "WARNING: SunpyMetadataWarning: Missing metadata for observer: assuming Earth-based observer.\n",
      "For frame 'heliographic_stonyhurst' the following metadata is missing: dsun_obs,hgln_obs,hglt_obs\n",
      "For frame 'heliographic_carrington' the following metadata is missing: dsun_obs,crlt_obs,crln_obs\n",
      " [sunpy.map.mapbase]\n",
      "/opt/anaconda3/envs/mag_model/lib/python3.8/site-packages/pfsspy/tracing.py:180: UserWarning: At least one field line ran out of steps during tracing.\n",
      "You should probably increase max_steps (currently set to 1000) and try again.\n",
      "  warnings.warn(\n"
     ]
    },
    {
     "name": "stdout",
     "output_type": "stream",
     "text": [
      "INFO: Missing metadata for solar radius: assuming the standard radius of the photosphere. [sunpy.map.mapbase]\n"
     ]
    },
    {
     "name": "stderr",
     "output_type": "stream",
     "text": [
      "WARNING: SunpyMetadataWarning: Missing metadata for observer: assuming Earth-based observer.\n",
      "For frame 'heliographic_stonyhurst' the following metadata is missing: dsun_obs,hgln_obs,hglt_obs\n",
      "For frame 'heliographic_carrington' the following metadata is missing: dsun_obs,crlt_obs,crln_obs\n",
      " [sunpy.map.mapbase]\n",
      "/opt/anaconda3/envs/mag_model/lib/python3.8/site-packages/pfsspy/tracing.py:180: UserWarning: At least one field line ran out of steps during tracing.\n",
      "You should probably increase max_steps (currently set to 1000) and try again.\n",
      "  warnings.warn(\n"
     ]
    },
    {
     "name": "stdout",
     "output_type": "stream",
     "text": [
      "INFO: Missing metadata for solar radius: assuming the standard radius of the photosphere. [sunpy.map.mapbase]\n"
     ]
    },
    {
     "name": "stderr",
     "output_type": "stream",
     "text": [
      "WARNING: SunpyMetadataWarning: Missing metadata for observer: assuming Earth-based observer.\n",
      "For frame 'heliographic_stonyhurst' the following metadata is missing: dsun_obs,hgln_obs,hglt_obs\n",
      "For frame 'heliographic_carrington' the following metadata is missing: dsun_obs,crlt_obs,crln_obs\n",
      " [sunpy.map.mapbase]\n",
      "/opt/anaconda3/envs/mag_model/lib/python3.8/site-packages/pfsspy/tracing.py:180: UserWarning: At least one field line ran out of steps during tracing.\n",
      "You should probably increase max_steps (currently set to 1000) and try again.\n",
      "  warnings.warn(\n"
     ]
    },
    {
     "name": "stdout",
     "output_type": "stream",
     "text": [
      "INFO: Missing metadata for solar radius: assuming the standard radius of the photosphere. [sunpy.map.mapbase]\n"
     ]
    },
    {
     "name": "stderr",
     "output_type": "stream",
     "text": [
      "WARNING: SunpyMetadataWarning: Missing metadata for observer: assuming Earth-based observer.\n",
      "For frame 'heliographic_stonyhurst' the following metadata is missing: dsun_obs,hgln_obs,hglt_obs\n",
      "For frame 'heliographic_carrington' the following metadata is missing: dsun_obs,crlt_obs,crln_obs\n",
      " [sunpy.map.mapbase]\n",
      "/opt/anaconda3/envs/mag_model/lib/python3.8/site-packages/pfsspy/tracing.py:180: UserWarning: At least one field line ran out of steps during tracing.\n",
      "You should probably increase max_steps (currently set to 1000) and try again.\n",
      "  warnings.warn(\n"
     ]
    },
    {
     "name": "stdout",
     "output_type": "stream",
     "text": [
      "INFO: Missing metadata for solar radius: assuming the standard radius of the photosphere. [sunpy.map.mapbase]\n"
     ]
    },
    {
     "name": "stderr",
     "output_type": "stream",
     "text": [
      "WARNING: SunpyMetadataWarning: Missing metadata for observer: assuming Earth-based observer.\n",
      "For frame 'heliographic_stonyhurst' the following metadata is missing: dsun_obs,hgln_obs,hglt_obs\n",
      "For frame 'heliographic_carrington' the following metadata is missing: dsun_obs,crlt_obs,crln_obs\n",
      " [sunpy.map.mapbase]\n",
      "/opt/anaconda3/envs/mag_model/lib/python3.8/site-packages/pfsspy/tracing.py:180: UserWarning: At least one field line ran out of steps during tracing.\n",
      "You should probably increase max_steps (currently set to 1000) and try again.\n",
      "  warnings.warn(\n"
     ]
    },
    {
     "name": "stdout",
     "output_type": "stream",
     "text": [
      "INFO: Missing metadata for solar radius: assuming the standard radius of the photosphere. [sunpy.map.mapbase]\n"
     ]
    },
    {
     "name": "stderr",
     "output_type": "stream",
     "text": [
      "WARNING: SunpyMetadataWarning: Missing metadata for observer: assuming Earth-based observer.\n",
      "For frame 'heliographic_stonyhurst' the following metadata is missing: dsun_obs,hgln_obs,hglt_obs\n",
      "For frame 'heliographic_carrington' the following metadata is missing: dsun_obs,crlt_obs,crln_obs\n",
      " [sunpy.map.mapbase]\n",
      "/opt/anaconda3/envs/mag_model/lib/python3.8/site-packages/pfsspy/tracing.py:180: UserWarning: At least one field line ran out of steps during tracing.\n",
      "You should probably increase max_steps (currently set to 1000) and try again.\n",
      "  warnings.warn(\n"
     ]
    },
    {
     "name": "stdout",
     "output_type": "stream",
     "text": [
      "data/gong/adapt40311_03k012_202209190000_i00005600n1.fts.gz already exists!\n",
      "INFO: Missing metadata for solar radius: assuming the standard radius of the photosphere. [sunpy.map.mapbase]\n"
     ]
    },
    {
     "name": "stderr",
     "output_type": "stream",
     "text": [
      "WARNING: SunpyMetadataWarning: Missing metadata for observer: assuming Earth-based observer.\n",
      "For frame 'heliographic_stonyhurst' the following metadata is missing: dsun_obs,hgln_obs,hglt_obs\n",
      "For frame 'heliographic_carrington' the following metadata is missing: dsun_obs,crlt_obs,crln_obs\n",
      " [sunpy.map.mapbase]\n"
     ]
    },
    {
     "name": "stdout",
     "output_type": "stream",
     "text": [
      "INFO: Missing metadata for solar radius: assuming the standard radius of the photosphere. [sunpy.map.mapbase]\n"
     ]
    },
    {
     "name": "stderr",
     "output_type": "stream",
     "text": [
      "WARNING: SunpyMetadataWarning: Missing metadata for observer: assuming Earth-based observer.\n",
      "For frame 'heliographic_stonyhurst' the following metadata is missing: dsun_obs,hgln_obs,hglt_obs\n",
      "For frame 'heliographic_carrington' the following metadata is missing: dsun_obs,crlt_obs,crln_obs\n",
      " [sunpy.map.mapbase]\n",
      "/opt/anaconda3/envs/mag_model/lib/python3.8/site-packages/pfsspy/tracing.py:180: UserWarning: At least one field line ran out of steps during tracing.\n",
      "You should probably increase max_steps (currently set to 1000) and try again.\n",
      "  warnings.warn(\n"
     ]
    },
    {
     "name": "stdout",
     "output_type": "stream",
     "text": [
      "INFO: Missing metadata for solar radius: assuming the standard radius of the photosphere. [sunpy.map.mapbase]\n"
     ]
    },
    {
     "name": "stderr",
     "output_type": "stream",
     "text": [
      "WARNING: SunpyMetadataWarning: Missing metadata for observer: assuming Earth-based observer.\n",
      "For frame 'heliographic_stonyhurst' the following metadata is missing: dsun_obs,hgln_obs,hglt_obs\n",
      "For frame 'heliographic_carrington' the following metadata is missing: dsun_obs,crlt_obs,crln_obs\n",
      " [sunpy.map.mapbase]\n",
      "/opt/anaconda3/envs/mag_model/lib/python3.8/site-packages/pfsspy/tracing.py:180: UserWarning: At least one field line ran out of steps during tracing.\n",
      "You should probably increase max_steps (currently set to 1000) and try again.\n",
      "  warnings.warn(\n"
     ]
    },
    {
     "name": "stdout",
     "output_type": "stream",
     "text": [
      "INFO: Missing metadata for solar radius: assuming the standard radius of the photosphere. [sunpy.map.mapbase]\n"
     ]
    },
    {
     "name": "stderr",
     "output_type": "stream",
     "text": [
      "WARNING: SunpyMetadataWarning: Missing metadata for observer: assuming Earth-based observer.\n",
      "For frame 'heliographic_stonyhurst' the following metadata is missing: dsun_obs,hgln_obs,hglt_obs\n",
      "For frame 'heliographic_carrington' the following metadata is missing: dsun_obs,crlt_obs,crln_obs\n",
      " [sunpy.map.mapbase]\n",
      "/opt/anaconda3/envs/mag_model/lib/python3.8/site-packages/pfsspy/tracing.py:180: UserWarning: At least one field line ran out of steps during tracing.\n",
      "You should probably increase max_steps (currently set to 1000) and try again.\n",
      "  warnings.warn(\n"
     ]
    },
    {
     "name": "stdout",
     "output_type": "stream",
     "text": [
      "INFO: Missing metadata for solar radius: assuming the standard radius of the photosphere. [sunpy.map.mapbase]\n"
     ]
    },
    {
     "name": "stderr",
     "output_type": "stream",
     "text": [
      "WARNING: SunpyMetadataWarning: Missing metadata for observer: assuming Earth-based observer.\n",
      "For frame 'heliographic_stonyhurst' the following metadata is missing: dsun_obs,hgln_obs,hglt_obs\n",
      "For frame 'heliographic_carrington' the following metadata is missing: dsun_obs,crlt_obs,crln_obs\n",
      " [sunpy.map.mapbase]\n",
      "/opt/anaconda3/envs/mag_model/lib/python3.8/site-packages/pfsspy/tracing.py:180: UserWarning: At least one field line ran out of steps during tracing.\n",
      "You should probably increase max_steps (currently set to 1000) and try again.\n",
      "  warnings.warn(\n"
     ]
    },
    {
     "name": "stdout",
     "output_type": "stream",
     "text": [
      "INFO: Missing metadata for solar radius: assuming the standard radius of the photosphere. [sunpy.map.mapbase]\n"
     ]
    },
    {
     "name": "stderr",
     "output_type": "stream",
     "text": [
      "WARNING: SunpyMetadataWarning: Missing metadata for observer: assuming Earth-based observer.\n",
      "For frame 'heliographic_stonyhurst' the following metadata is missing: dsun_obs,hgln_obs,hglt_obs\n",
      "For frame 'heliographic_carrington' the following metadata is missing: dsun_obs,crlt_obs,crln_obs\n",
      " [sunpy.map.mapbase]\n",
      "/opt/anaconda3/envs/mag_model/lib/python3.8/site-packages/pfsspy/tracing.py:180: UserWarning: At least one field line ran out of steps during tracing.\n",
      "You should probably increase max_steps (currently set to 1000) and try again.\n",
      "  warnings.warn(\n"
     ]
    },
    {
     "name": "stdout",
     "output_type": "stream",
     "text": [
      "INFO: Missing metadata for solar radius: assuming the standard radius of the photosphere. [sunpy.map.mapbase]\n"
     ]
    },
    {
     "name": "stderr",
     "output_type": "stream",
     "text": [
      "WARNING: SunpyMetadataWarning: Missing metadata for observer: assuming Earth-based observer.\n",
      "For frame 'heliographic_stonyhurst' the following metadata is missing: dsun_obs,hgln_obs,hglt_obs\n",
      "For frame 'heliographic_carrington' the following metadata is missing: dsun_obs,crlt_obs,crln_obs\n",
      " [sunpy.map.mapbase]\n",
      "/opt/anaconda3/envs/mag_model/lib/python3.8/site-packages/pfsspy/tracing.py:180: UserWarning: At least one field line ran out of steps during tracing.\n",
      "You should probably increase max_steps (currently set to 1000) and try again.\n",
      "  warnings.warn(\n"
     ]
    },
    {
     "name": "stdout",
     "output_type": "stream",
     "text": [
      "INFO: Missing metadata for solar radius: assuming the standard radius of the photosphere. [sunpy.map.mapbase]\n"
     ]
    },
    {
     "name": "stderr",
     "output_type": "stream",
     "text": [
      "WARNING: SunpyMetadataWarning: Missing metadata for observer: assuming Earth-based observer.\n",
      "For frame 'heliographic_stonyhurst' the following metadata is missing: dsun_obs,hgln_obs,hglt_obs\n",
      "For frame 'heliographic_carrington' the following metadata is missing: dsun_obs,crlt_obs,crln_obs\n",
      " [sunpy.map.mapbase]\n",
      "/opt/anaconda3/envs/mag_model/lib/python3.8/site-packages/pfsspy/tracing.py:180: UserWarning: At least one field line ran out of steps during tracing.\n",
      "You should probably increase max_steps (currently set to 1000) and try again.\n",
      "  warnings.warn(\n"
     ]
    },
    {
     "name": "stdout",
     "output_type": "stream",
     "text": [
      "data/gong/adapt41311_03k012_202209200000_i00005600n1.fts.gz already exists!\n",
      "INFO: Missing metadata for solar radius: assuming the standard radius of the photosphere. [sunpy.map.mapbase]\n"
     ]
    },
    {
     "name": "stderr",
     "output_type": "stream",
     "text": [
      "WARNING: SunpyMetadataWarning: Missing metadata for observer: assuming Earth-based observer.\n",
      "For frame 'heliographic_stonyhurst' the following metadata is missing: dsun_obs,hgln_obs,hglt_obs\n",
      "For frame 'heliographic_carrington' the following metadata is missing: dsun_obs,crlt_obs,crln_obs\n",
      " [sunpy.map.mapbase]\n"
     ]
    },
    {
     "name": "stdout",
     "output_type": "stream",
     "text": [
      "INFO: Missing metadata for solar radius: assuming the standard radius of the photosphere. [sunpy.map.mapbase]\n"
     ]
    },
    {
     "name": "stderr",
     "output_type": "stream",
     "text": [
      "WARNING: SunpyMetadataWarning: Missing metadata for observer: assuming Earth-based observer.\n",
      "For frame 'heliographic_stonyhurst' the following metadata is missing: dsun_obs,hgln_obs,hglt_obs\n",
      "For frame 'heliographic_carrington' the following metadata is missing: dsun_obs,crlt_obs,crln_obs\n",
      " [sunpy.map.mapbase]\n",
      "/opt/anaconda3/envs/mag_model/lib/python3.8/site-packages/pfsspy/tracing.py:180: UserWarning: At least one field line ran out of steps during tracing.\n",
      "You should probably increase max_steps (currently set to 1000) and try again.\n",
      "  warnings.warn(\n"
     ]
    },
    {
     "name": "stdout",
     "output_type": "stream",
     "text": [
      "INFO: Missing metadata for solar radius: assuming the standard radius of the photosphere. [sunpy.map.mapbase]\n"
     ]
    },
    {
     "name": "stderr",
     "output_type": "stream",
     "text": [
      "WARNING: SunpyMetadataWarning: Missing metadata for observer: assuming Earth-based observer.\n",
      "For frame 'heliographic_stonyhurst' the following metadata is missing: dsun_obs,hgln_obs,hglt_obs\n",
      "For frame 'heliographic_carrington' the following metadata is missing: dsun_obs,crlt_obs,crln_obs\n",
      " [sunpy.map.mapbase]\n",
      "/opt/anaconda3/envs/mag_model/lib/python3.8/site-packages/pfsspy/tracing.py:180: UserWarning: At least one field line ran out of steps during tracing.\n",
      "You should probably increase max_steps (currently set to 1000) and try again.\n",
      "  warnings.warn(\n"
     ]
    },
    {
     "name": "stdout",
     "output_type": "stream",
     "text": [
      "INFO: Missing metadata for solar radius: assuming the standard radius of the photosphere. [sunpy.map.mapbase]\n"
     ]
    },
    {
     "name": "stderr",
     "output_type": "stream",
     "text": [
      "WARNING: SunpyMetadataWarning: Missing metadata for observer: assuming Earth-based observer.\n",
      "For frame 'heliographic_stonyhurst' the following metadata is missing: dsun_obs,hgln_obs,hglt_obs\n",
      "For frame 'heliographic_carrington' the following metadata is missing: dsun_obs,crlt_obs,crln_obs\n",
      " [sunpy.map.mapbase]\n",
      "/opt/anaconda3/envs/mag_model/lib/python3.8/site-packages/pfsspy/tracing.py:180: UserWarning: At least one field line ran out of steps during tracing.\n",
      "You should probably increase max_steps (currently set to 1000) and try again.\n",
      "  warnings.warn(\n"
     ]
    },
    {
     "name": "stdout",
     "output_type": "stream",
     "text": [
      "INFO: Missing metadata for solar radius: assuming the standard radius of the photosphere. [sunpy.map.mapbase]\n"
     ]
    },
    {
     "name": "stderr",
     "output_type": "stream",
     "text": [
      "WARNING: SunpyMetadataWarning: Missing metadata for observer: assuming Earth-based observer.\n",
      "For frame 'heliographic_stonyhurst' the following metadata is missing: dsun_obs,hgln_obs,hglt_obs\n",
      "For frame 'heliographic_carrington' the following metadata is missing: dsun_obs,crlt_obs,crln_obs\n",
      " [sunpy.map.mapbase]\n",
      "/opt/anaconda3/envs/mag_model/lib/python3.8/site-packages/pfsspy/tracing.py:180: UserWarning: At least one field line ran out of steps during tracing.\n",
      "You should probably increase max_steps (currently set to 1000) and try again.\n",
      "  warnings.warn(\n"
     ]
    },
    {
     "name": "stdout",
     "output_type": "stream",
     "text": [
      "INFO: Missing metadata for solar radius: assuming the standard radius of the photosphere. [sunpy.map.mapbase]\n"
     ]
    },
    {
     "name": "stderr",
     "output_type": "stream",
     "text": [
      "WARNING: SunpyMetadataWarning: Missing metadata for observer: assuming Earth-based observer.\n",
      "For frame 'heliographic_stonyhurst' the following metadata is missing: dsun_obs,hgln_obs,hglt_obs\n",
      "For frame 'heliographic_carrington' the following metadata is missing: dsun_obs,crlt_obs,crln_obs\n",
      " [sunpy.map.mapbase]\n",
      "/opt/anaconda3/envs/mag_model/lib/python3.8/site-packages/pfsspy/tracing.py:180: UserWarning: At least one field line ran out of steps during tracing.\n",
      "You should probably increase max_steps (currently set to 1000) and try again.\n",
      "  warnings.warn(\n"
     ]
    },
    {
     "name": "stdout",
     "output_type": "stream",
     "text": [
      "INFO: Missing metadata for solar radius: assuming the standard radius of the photosphere. [sunpy.map.mapbase]\n"
     ]
    },
    {
     "name": "stderr",
     "output_type": "stream",
     "text": [
      "WARNING: SunpyMetadataWarning: Missing metadata for observer: assuming Earth-based observer.\n",
      "For frame 'heliographic_stonyhurst' the following metadata is missing: dsun_obs,hgln_obs,hglt_obs\n",
      "For frame 'heliographic_carrington' the following metadata is missing: dsun_obs,crlt_obs,crln_obs\n",
      " [sunpy.map.mapbase]\n",
      "/opt/anaconda3/envs/mag_model/lib/python3.8/site-packages/pfsspy/tracing.py:180: UserWarning: At least one field line ran out of steps during tracing.\n",
      "You should probably increase max_steps (currently set to 1000) and try again.\n",
      "  warnings.warn(\n"
     ]
    },
    {
     "name": "stdout",
     "output_type": "stream",
     "text": [
      "INFO: Missing metadata for solar radius: assuming the standard radius of the photosphere. [sunpy.map.mapbase]\n"
     ]
    },
    {
     "name": "stderr",
     "output_type": "stream",
     "text": [
      "WARNING: SunpyMetadataWarning: Missing metadata for observer: assuming Earth-based observer.\n",
      "For frame 'heliographic_stonyhurst' the following metadata is missing: dsun_obs,hgln_obs,hglt_obs\n",
      "For frame 'heliographic_carrington' the following metadata is missing: dsun_obs,crlt_obs,crln_obs\n",
      " [sunpy.map.mapbase]\n",
      "/opt/anaconda3/envs/mag_model/lib/python3.8/site-packages/pfsspy/tracing.py:180: UserWarning: At least one field line ran out of steps during tracing.\n",
      "You should probably increase max_steps (currently set to 1000) and try again.\n",
      "  warnings.warn(\n"
     ]
    },
    {
     "name": "stdout",
     "output_type": "stream",
     "text": [
      "data/gong/adapt41311_03k012_202209210000_i00005600n1.fts.gz already exists!\n",
      "INFO: Missing metadata for solar radius: assuming the standard radius of the photosphere. [sunpy.map.mapbase]\n"
     ]
    },
    {
     "name": "stderr",
     "output_type": "stream",
     "text": [
      "WARNING: SunpyMetadataWarning: Missing metadata for observer: assuming Earth-based observer.\n",
      "For frame 'heliographic_stonyhurst' the following metadata is missing: dsun_obs,hgln_obs,hglt_obs\n",
      "For frame 'heliographic_carrington' the following metadata is missing: dsun_obs,crlt_obs,crln_obs\n",
      " [sunpy.map.mapbase]\n"
     ]
    },
    {
     "name": "stdout",
     "output_type": "stream",
     "text": [
      "INFO: Missing metadata for solar radius: assuming the standard radius of the photosphere. [sunpy.map.mapbase]\n"
     ]
    },
    {
     "name": "stderr",
     "output_type": "stream",
     "text": [
      "WARNING: SunpyMetadataWarning: Missing metadata for observer: assuming Earth-based observer.\n",
      "For frame 'heliographic_stonyhurst' the following metadata is missing: dsun_obs,hgln_obs,hglt_obs\n",
      "For frame 'heliographic_carrington' the following metadata is missing: dsun_obs,crlt_obs,crln_obs\n",
      " [sunpy.map.mapbase]\n",
      "/opt/anaconda3/envs/mag_model/lib/python3.8/site-packages/pfsspy/tracing.py:180: UserWarning: At least one field line ran out of steps during tracing.\n",
      "You should probably increase max_steps (currently set to 1000) and try again.\n",
      "  warnings.warn(\n"
     ]
    },
    {
     "name": "stdout",
     "output_type": "stream",
     "text": [
      "INFO: Missing metadata for solar radius: assuming the standard radius of the photosphere. [sunpy.map.mapbase]\n"
     ]
    },
    {
     "name": "stderr",
     "output_type": "stream",
     "text": [
      "WARNING: SunpyMetadataWarning: Missing metadata for observer: assuming Earth-based observer.\n",
      "For frame 'heliographic_stonyhurst' the following metadata is missing: dsun_obs,hgln_obs,hglt_obs\n",
      "For frame 'heliographic_carrington' the following metadata is missing: dsun_obs,crlt_obs,crln_obs\n",
      " [sunpy.map.mapbase]\n",
      "/opt/anaconda3/envs/mag_model/lib/python3.8/site-packages/pfsspy/tracing.py:180: UserWarning: At least one field line ran out of steps during tracing.\n",
      "You should probably increase max_steps (currently set to 1000) and try again.\n",
      "  warnings.warn(\n"
     ]
    },
    {
     "name": "stdout",
     "output_type": "stream",
     "text": [
      "INFO: Missing metadata for solar radius: assuming the standard radius of the photosphere. [sunpy.map.mapbase]\n"
     ]
    },
    {
     "name": "stderr",
     "output_type": "stream",
     "text": [
      "WARNING: SunpyMetadataWarning: Missing metadata for observer: assuming Earth-based observer.\n",
      "For frame 'heliographic_stonyhurst' the following metadata is missing: dsun_obs,hgln_obs,hglt_obs\n",
      "For frame 'heliographic_carrington' the following metadata is missing: dsun_obs,crlt_obs,crln_obs\n",
      " [sunpy.map.mapbase]\n",
      "/opt/anaconda3/envs/mag_model/lib/python3.8/site-packages/pfsspy/tracing.py:180: UserWarning: At least one field line ran out of steps during tracing.\n",
      "You should probably increase max_steps (currently set to 1000) and try again.\n",
      "  warnings.warn(\n"
     ]
    },
    {
     "name": "stdout",
     "output_type": "stream",
     "text": [
      "INFO: Missing metadata for solar radius: assuming the standard radius of the photosphere. [sunpy.map.mapbase]\n"
     ]
    },
    {
     "name": "stderr",
     "output_type": "stream",
     "text": [
      "WARNING: SunpyMetadataWarning: Missing metadata for observer: assuming Earth-based observer.\n",
      "For frame 'heliographic_stonyhurst' the following metadata is missing: dsun_obs,hgln_obs,hglt_obs\n",
      "For frame 'heliographic_carrington' the following metadata is missing: dsun_obs,crlt_obs,crln_obs\n",
      " [sunpy.map.mapbase]\n",
      "/opt/anaconda3/envs/mag_model/lib/python3.8/site-packages/pfsspy/tracing.py:180: UserWarning: At least one field line ran out of steps during tracing.\n",
      "You should probably increase max_steps (currently set to 1000) and try again.\n",
      "  warnings.warn(\n"
     ]
    },
    {
     "name": "stdout",
     "output_type": "stream",
     "text": [
      "INFO: Missing metadata for solar radius: assuming the standard radius of the photosphere. [sunpy.map.mapbase]\n"
     ]
    },
    {
     "name": "stderr",
     "output_type": "stream",
     "text": [
      "WARNING: SunpyMetadataWarning: Missing metadata for observer: assuming Earth-based observer.\n",
      "For frame 'heliographic_stonyhurst' the following metadata is missing: dsun_obs,hgln_obs,hglt_obs\n",
      "For frame 'heliographic_carrington' the following metadata is missing: dsun_obs,crlt_obs,crln_obs\n",
      " [sunpy.map.mapbase]\n",
      "/opt/anaconda3/envs/mag_model/lib/python3.8/site-packages/pfsspy/tracing.py:180: UserWarning: At least one field line ran out of steps during tracing.\n",
      "You should probably increase max_steps (currently set to 1000) and try again.\n",
      "  warnings.warn(\n"
     ]
    },
    {
     "name": "stdout",
     "output_type": "stream",
     "text": [
      "INFO: Missing metadata for solar radius: assuming the standard radius of the photosphere. [sunpy.map.mapbase]\n"
     ]
    },
    {
     "name": "stderr",
     "output_type": "stream",
     "text": [
      "WARNING: SunpyMetadataWarning: Missing metadata for observer: assuming Earth-based observer.\n",
      "For frame 'heliographic_stonyhurst' the following metadata is missing: dsun_obs,hgln_obs,hglt_obs\n",
      "For frame 'heliographic_carrington' the following metadata is missing: dsun_obs,crlt_obs,crln_obs\n",
      " [sunpy.map.mapbase]\n",
      "/opt/anaconda3/envs/mag_model/lib/python3.8/site-packages/pfsspy/tracing.py:180: UserWarning: At least one field line ran out of steps during tracing.\n",
      "You should probably increase max_steps (currently set to 1000) and try again.\n",
      "  warnings.warn(\n"
     ]
    },
    {
     "name": "stdout",
     "output_type": "stream",
     "text": [
      "INFO: Missing metadata for solar radius: assuming the standard radius of the photosphere. [sunpy.map.mapbase]\n"
     ]
    },
    {
     "name": "stderr",
     "output_type": "stream",
     "text": [
      "WARNING: SunpyMetadataWarning: Missing metadata for observer: assuming Earth-based observer.\n",
      "For frame 'heliographic_stonyhurst' the following metadata is missing: dsun_obs,hgln_obs,hglt_obs\n",
      "For frame 'heliographic_carrington' the following metadata is missing: dsun_obs,crlt_obs,crln_obs\n",
      " [sunpy.map.mapbase]\n",
      "/opt/anaconda3/envs/mag_model/lib/python3.8/site-packages/pfsspy/tracing.py:180: UserWarning: At least one field line ran out of steps during tracing.\n",
      "You should probably increase max_steps (currently set to 1000) and try again.\n",
      "  warnings.warn(\n"
     ]
    }
   ],
   "source": [
    "for filename in filenames:\n",
    "\n",
    "    # download magnetogram\n",
    "    remote_path = \"ftp://gong.nso.edu//adapt/maps/gong/2022\"\n",
    "    local_path = \"data/gong\"\n",
    "    if not os.path.exists(f\"{local_path}/{filename}\") : # check if file has already been downloaded\n",
    "        print(f\"Downloading {local_path}/{filename}\") \n",
    "        os.system(f'wget {remote_path}/{filename} -P {local_path}')\n",
    "    else : print(f\"{local_path}/{filename} already exists!\" )\n",
    "\n",
    "    # get an adapt magnetogram\n",
    "    filepath = f\"{local_path}/{filename}\"\n",
    "    adapt_magnetogram = pfss_funcs.adapt2pfsspy(filepath, return_magnetogram=True)\n",
    "\n",
    "    # run pfss model for varying RSS values\n",
    "    for rss in rss_values:\n",
    "        # run the PFSS model with rss \n",
    "        pfss_model = pfss_funcs.adapt2pfsspy(filepath, rss)\n",
    "\n",
    "        # magnetic field line tracing starting from photosphere\n",
    "        flines = pfss_funcs.pfss2flines(pfss_model)\n",
    "\n",
    "        # get Br at the source surface from the pfss model\n",
    "        pfss_br = pfss_model.source_surface_br\n",
    "\n",
    "        # get HCS\n",
    "        hcs = [pfss_model.source_surface_pils[0].lon, pfss_model.source_surface_pils[0].lat]\n",
    "\n",
    "        # add this to dataframe\n",
    "        df_name = str(int(rss*100)) + \"_\" + str(pfss_br.date)\n",
    "        hcs_df = pd.DataFrame({str(df_name) : hcs})\n",
    "        hcs_data.append(hcs_df)\n",
    "\n",
    "# concatenate dataframes\n",
    "hcs_csv = pd.concat(hcs_data, axis=1)"
   ]
  },
  {
   "cell_type": "code",
   "execution_count": 87,
   "id": "aeba1a57",
   "metadata": {},
   "outputs": [
    {
     "ename": "NameError",
     "evalue": "name 'hcs_csv' is not defined",
     "output_type": "error",
     "traceback": [
      "\u001b[0;31m---------------------------------------------------------------------------\u001b[0m",
      "\u001b[0;31mNameError\u001b[0m                                 Traceback (most recent call last)",
      "\u001b[1;32m/Users/tamarervin/Desktop/Repositories/mag_model/calcs.ipynb Cell 12'\u001b[0m in \u001b[0;36m<cell line: 4>\u001b[0;34m()\u001b[0m\n\u001b[1;32m      <a href='vscode-notebook-cell:/Users/tamarervin/Desktop/Repositories/mag_model/calcs.ipynb#ch0000012?line=0'>1</a>\u001b[0m \u001b[39m# save dataframe to CSV\u001b[39;00m\n\u001b[1;32m      <a href='vscode-notebook-cell:/Users/tamarervin/Desktop/Repositories/mag_model/calcs.ipynb#ch0000012?line=1'>2</a>\u001b[0m \u001b[39m# save this data array to a csv file\u001b[39;00m\n\u001b[1;32m      <a href='vscode-notebook-cell:/Users/tamarervin/Desktop/Repositories/mag_model/calcs.ipynb#ch0000012?line=2'>3</a>\u001b[0m savecsv \u001b[39m=\u001b[39m os\u001b[39m.\u001b[39mpath\u001b[39m.\u001b[39mjoin(HCS_DATA_DIR, \u001b[39m'\u001b[39m\u001b[39mhcs_data.csv\u001b[39m\u001b[39m'\u001b[39m)\n\u001b[0;32m----> <a href='vscode-notebook-cell:/Users/tamarervin/Desktop/Repositories/mag_model/calcs.ipynb#ch0000012?line=3'>4</a>\u001b[0m hcs_csv\u001b[39m.\u001b[39mto_csv(savecsv, index\u001b[39m=\u001b[39m\u001b[39mFalse\u001b[39;00m)\n",
      "\u001b[0;31mNameError\u001b[0m: name 'hcs_csv' is not defined"
     ]
    }
   ],
   "source": [
    "# save dataframe to CSV\n",
    "# save this data array to a csv file\n",
    "savecsv = os.path.join(HCS_DATA_DIR, 'hcs_data.csv')\n",
    "hcs_csv.to_csv(savecsv, index=False)"
   ]
  },
  {
   "cell_type": "code",
   "execution_count": 121,
   "id": "b6bc1ea4",
   "metadata": {},
   "outputs": [
    {
     "data": {
      "text/html": [
       "<div>\n",
       "<style scoped>\n",
       "    .dataframe tbody tr th:only-of-type {\n",
       "        vertical-align: middle;\n",
       "    }\n",
       "\n",
       "    .dataframe tbody tr th {\n",
       "        vertical-align: top;\n",
       "    }\n",
       "\n",
       "    .dataframe thead th {\n",
       "        text-align: right;\n",
       "    }\n",
       "</style>\n",
       "<table border=\"1\" class=\"dataframe\">\n",
       "  <thead>\n",
       "    <tr style=\"text-align: right;\">\n",
       "      <th></th>\n",
       "      <th>200.0_2022-09-17T00:00:00.000</th>\n",
       "    </tr>\n",
       "  </thead>\n",
       "  <tbody>\n",
       "    <tr>\n",
       "      <th>0</th>\n",
       "      <td>[143d30m00s, 144d05m03.65757087s, 144d30m00s, ...</td>\n",
       "    </tr>\n",
       "    <tr>\n",
       "      <th>1</th>\n",
       "      <td>[-24d32m23.87023331s, -23d55m33.40485755s, -23...</td>\n",
       "    </tr>\n",
       "  </tbody>\n",
       "</table>\n",
       "</div>"
      ],
      "text/plain": [
       "                       200.0_2022-09-17T00:00:00.000\n",
       "0  [143d30m00s, 144d05m03.65757087s, 144d30m00s, ...\n",
       "1  [-24d32m23.87023331s, -23d55m33.40485755s, -23..."
      ]
     },
     "execution_count": 121,
     "metadata": {},
     "output_type": "execute_result"
    }
   ],
   "source": [
    "hcs_data[0]"
   ]
  },
  {
   "cell_type": "code",
   "execution_count": null,
   "id": "3aa2484d",
   "metadata": {},
   "outputs": [],
   "source": [
    "import astropy.units as u\n",
    "\n",
    "# get Br at the source surface from the pfss model\n",
    "pfss_br = pfss_model.source_surface_br\n",
    "\n",
    "# get HCS\n",
    "hcs = pfss_model.source_surface_pils[0]\n",
    "\n",
    "# plot this using sunpy\n",
    "fig = plt.figure(figsize=(10,5))\n",
    "ax = fig.add_subplot()\n",
    "# pfss_br.plot(axes=ax)\n",
    "\n",
    "# plot the HCS\n",
    "ax.scatter(hcs.lon, hcs.lat, color='black', s=3, label='HCS')\n",
    "\n",
    "# plot the PSP trajectory on top of it\n",
    "pos = np.where(psp_data.polarity == 1)\n",
    "neg = np.where(psp_data.polarity == -1)\n",
    "\n",
    "ax.scatter(psp_at_source_surface.lon[neg], psp_at_source_surface.lat[neg], color='blue', s=10,\n",
    "label='Negative Polarity')\n",
    "ax.scatter(psp_at_source_surface.lon[pos], psp_at_source_surface.lat[pos], color='red', s=10, \n",
    "label='Positive Polarity')\n",
    "\n",
    "ax.set_title(str(pfss_br.date)[:-4] + r\" $\\rm R_{ss} =$\" + str(rss))\n",
    "ax.set_xlabel(\"Carrington Longitude (deg)\")\n",
    "ax.set_ylabel(\"Sine Carrington Latitude\")\n",
    "\n",
    "ax.set_xlim(0,360)\n",
    "ax.legend(loc='lower right')\n",
    "\n",
    "fig_title = str(pfss_br.date) + '_' + str(rss) + '.png'\n",
    "figpath = os.path.join(IMG_DIR, fig_title)\n",
    "fig.savefig(figpath, dpi=1200, bbox_inches='tight')"
   ]
  },
  {
   "cell_type": "markdown",
   "id": "073665ef",
   "metadata": {},
   "source": [
    "# Comparison Plotting"
   ]
  },
  {
   "cell_type": "code",
   "execution_count": 84,
   "id": "5f6ed067",
   "metadata": {},
   "outputs": [],
   "source": [
    "# do some comparison plotting:\n",
    "# read in HCS CSV file\n",
    "import pandas as pd\n",
    "import matplotlib.pyplot as plt\n",
    "hcs_file = '/Users/tamarervin/Desktop/Repositories/mag_model/data/gong/hcs_data.csv'\n",
    "hcs = pd.read_csv(hcs_file, engine='python', index_col=0)\n",
    "\n",
    "# read in PSP CSV file\n",
    "psp_file = '/Users/tamarervin/Desktop/Repositories/mag_model/data/psp/psp_ss.csv'\n",
    "psp = pd.read_csv(psp_file, engine='python', delimiter=',', index_col=0)\n"
   ]
  },
  {
   "cell_type": "code",
   "execution_count": 162,
   "id": "d8214c73",
   "metadata": {},
   "outputs": [],
   "source": [
    "hcs_data = hcs_data[0:35]"
   ]
  },
  {
   "cell_type": "code",
   "execution_count": 1,
   "id": "0eb185c6",
   "metadata": {},
   "outputs": [
    {
     "ename": "NameError",
     "evalue": "name 'plt' is not defined",
     "output_type": "error",
     "traceback": [
      "\u001b[0;31m---------------------------------------------------------------------------\u001b[0m",
      "\u001b[0;31mNameError\u001b[0m                                 Traceback (most recent call last)",
      "\u001b[1;32m/Users/tamarervin/Desktop/Repositories/mag_model/calcs.ipynb Cell 18'\u001b[0m in \u001b[0;36m<cell line: 3>\u001b[0;34m()\u001b[0m\n\u001b[1;32m      <a href='vscode-notebook-cell:/Users/tamarervin/Desktop/Repositories/mag_model/calcs.ipynb#ch0000017?line=0'>1</a>\u001b[0m \u001b[39m# set up plotting grid\u001b[39;00m\n\u001b[1;32m      <a href='vscode-notebook-cell:/Users/tamarervin/Desktop/Repositories/mag_model/calcs.ipynb#ch0000017?line=1'>2</a>\u001b[0m \u001b[39mimport\u001b[39;00m \u001b[39mnumpy\u001b[39;00m \u001b[39mas\u001b[39;00m \u001b[39mnp\u001b[39;00m\n\u001b[0;32m----> <a href='vscode-notebook-cell:/Users/tamarervin/Desktop/Repositories/mag_model/calcs.ipynb#ch0000017?line=2'>3</a>\u001b[0m fig, axs \u001b[39m=\u001b[39m plt\u001b[39m.\u001b[39msubplots(\u001b[39m7\u001b[39m, \u001b[39m5\u001b[39m, sharey\u001b[39m=\u001b[39m\u001b[39m'\u001b[39m\u001b[39mrow\u001b[39m\u001b[39m'\u001b[39m, sharex\u001b[39m=\u001b[39m\u001b[39m'\u001b[39m\u001b[39mcol\u001b[39m\u001b[39m'\u001b[39m, figsize\u001b[39m=\u001b[39m[\u001b[39m50\u001b[39m, \u001b[39m35\u001b[39m], gridspec_kw\u001b[39m=\u001b[39m{\u001b[39m'\u001b[39m\u001b[39mhspace\u001b[39m\u001b[39m'\u001b[39m: \u001b[39m0.05\u001b[39m, \u001b[39m'\u001b[39m\u001b[39mwspace\u001b[39m\u001b[39m'\u001b[39m: \u001b[39m0.05\u001b[39m})\n\u001b[1;32m      <a href='vscode-notebook-cell:/Users/tamarervin/Desktop/Repositories/mag_model/calcs.ipynb#ch0000017?line=4'>5</a>\u001b[0m \u001b[39mfor\u001b[39;00m i, h \u001b[39min\u001b[39;00m \u001b[39menumerate\u001b[39m(hcs_data):\n\u001b[1;32m      <a href='vscode-notebook-cell:/Users/tamarervin/Desktop/Repositories/mag_model/calcs.ipynb#ch0000017?line=5'>6</a>\u001b[0m     head \u001b[39m=\u001b[39m h\u001b[39m.\u001b[39mcolumns[\u001b[39m0\u001b[39m]\n",
      "\u001b[0;31mNameError\u001b[0m: name 'plt' is not defined"
     ]
    }
   ],
   "source": [
    "# set up plotting grid\n",
    "import numpy as np\n",
    "fig, axs = plt.subplots(7, 5, sharey='row', sharex='col', figsize=[50, 35], gridspec_kw={'hspace': 0.05, 'wspace': 0.05})\n",
    "\n",
    "for i, h in enumerate(hcs_data):\n",
    "    head = h.columns[0]\n",
    "    # for i, h in enumerate(hcs.columns):\n",
    "    # determine the source surface radius and date\n",
    "    rss, d = float(head.split('_')[0]), head.split('_')[1]\n",
    "    lc = str(int(rss))\n",
    "\n",
    "    # get indices for axs\n",
    "    j = int((rss/100*4) - 8)\n",
    "    k = int(i/7)\n",
    "\n",
    "    # plot the HCS\n",
    "    # hs = hcs.iloc[:, i]\n",
    "    axs[j, k].scatter(list(h.iloc[0, :]), list(h.iloc[1, :]), color='black', s=3, label= r'$\\rm R_{ss} = $' + str(float(rss/100)))\n",
    "\n",
    "    # plot the PSP trajectory on top of it\n",
    "    pos = np.where(psp_data.polarity == 1)[0]\n",
    "    neg = np.where(psp_data.polarity == -1)[0]\n",
    "\n",
    "    axs[j, k].scatter(coords.loc[:, 'lon_' + lc][neg], coords.loc[:, 'lat_' + lc][neg], color='blue', s=10)\n",
    "    axs[j, k].scatter(coords.loc[:, 'lon_' + lc][pos], coords.loc[:, 'lat_' + lc][pos], color='red', s=10)\n",
    "\n",
    "    # set y-label\n",
    "    if k == 0:\n",
    "        axs[j, k].set_ylabel(\"Sine Carrington Latitude\")\n",
    "    \n",
    "    # set x label\n",
    "    if j == 6:\n",
    "        axs[j, k].set_xlabel(\"Carrington Longitude (deg)\")\n",
    "\n",
    "    # set title (date)\n",
    "    if j == 0:\n",
    "        axs[j, k].set_title(d.split('T')[0])\n",
    "\n",
    "    # set x limit\n",
    "    axs[j, k].set_xlim(0,360)\n",
    "    axs[j, k].legend(loc='lower right')\n",
    "\n",
    "fig_title = 'so_comparison.png'\n",
    "figpath = os.path.join(IMG_DIR, fig_title)\n",
    "fig.savefig(figpath, dpi=1200, bbox_inches='tight')\n",
    "    "
   ]
  },
  {
   "cell_type": "code",
   "execution_count": null,
   "id": "040d81c0",
   "metadata": {},
   "outputs": [],
   "source": [
    "# get the radial data from stuart\n",
    "# make the heliospheric current sheet on the 2D grid of Br -- contour where Br at SS is 0\n",
    "# plot the PSP trajectory across the Br grid \n",
    "# use the timeseries from the data on the astrospice thing to get the actual \n",
    "#       PSP coordinates for comparison"
   ]
  },
  {
   "cell_type": "code",
   "execution_count": 148,
   "id": "876effbe",
   "metadata": {},
   "outputs": [
    {
     "data": {
      "text/plain": [
       "116     237.619033\n",
       "373     210.165292\n",
       "469     205.494928\n",
       "470     205.481841\n",
       "492     205.460587\n",
       "           ...    \n",
       "1283    329.859021\n",
       "1284    329.773555\n",
       "1286    329.602319\n",
       "1287    329.516550\n",
       "1298    328.566557\n",
       "Name: lon_200, Length: 110, dtype: float64"
      ]
     },
     "execution_count": 148,
     "metadata": {},
     "output_type": "execute_result"
    }
   ],
   "source": [
    "# plt.scatter(list(h.iloc[0, :]), list(h.iloc[1, :]))\n",
    "coords.loc[:, 'lon_' + lc][pos[0]]\n",
    "# pos[0]"
   ]
  },
  {
   "cell_type": "markdown",
   "id": "4b6e8568",
   "metadata": {},
   "source": [
    "# goals\n",
    "- find good magnetogram\n",
    "- change the Rss surface height\n",
    "\n",
    "- want to create a csv file with HCS data, PSP data"
   ]
  },
  {
   "cell_type": "code",
   "execution_count": null,
   "id": "d4598f63",
   "metadata": {},
   "outputs": [],
   "source": []
  },
  {
   "cell_type": "code",
   "execution_count": null,
   "id": "469c89d6",
   "metadata": {},
   "outputs": [],
   "source": []
  },
  {
   "cell_type": "code",
   "execution_count": null,
   "id": "d0e19f87",
   "metadata": {},
   "outputs": [],
   "source": []
  }
 ],
 "metadata": {
  "kernelspec": {
   "display_name": "Python 3",
   "language": "python",
   "name": "python3"
  },
  "language_info": {
   "codemirror_mode": {
    "name": "ipython",
    "version": 3
   },
   "file_extension": ".py",
   "mimetype": "text/x-python",
   "name": "python",
   "nbconvert_exporter": "python",
   "pygments_lexer": "ipython3",
   "version": "3.8.0"
  }
 },
 "nbformat": 4,
 "nbformat_minor": 5
}
